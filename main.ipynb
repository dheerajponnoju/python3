{
 "cells": [
  {
   "cell_type": "code",
   "execution_count": 9,
   "metadata": {},
   "outputs": [],
   "source": [
    "# importing libraries\n",
    "import pandas as pd\n",
    "import os\n",
    "import json\n",
    "from tqdm import tqdm"
   ]
  },
  {
   "cell_type": "code",
   "execution_count": 7,
   "metadata": {},
   "outputs": [],
   "source": [
    "root = 'data/' # directory where I have saved the json dumps"
   ]
  },
  {
   "cell_type": "code",
   "execution_count": 2,
   "metadata": {},
   "outputs": [],
   "source": [
    "# cleaning data file\n",
    "file_names = [i for i in os.listdir('data/') if i!='.ipynb_checkpoints']"
   ]
  },
  {
   "cell_type": "code",
   "execution_count": 4,
   "metadata": {},
   "outputs": [
    {
     "data": {
      "text/plain": [
       "['metadatafield', 'propertiestype']"
      ]
     },
     "execution_count": 4,
     "metadata": {},
     "output_type": "execute_result"
    }
   ],
   "source": [
    "file_names"
   ]
  },
  {
   "cell_type": "code",
   "execution_count": 10,
   "metadata": {},
   "outputs": [
    {
     "name": "stdout",
     "output_type": "stream",
     "text": [
      "propertiestype\n"
     ]
    }
   ],
   "source": [
    "# cleaning the `propertiesType` file\n",
    "print(file_names[1])\n",
    "file_1 = open(root+file_names[1], \"r\").read()\n",
    "file_1 = json.loads(file_1[3:])\n",
    "file_1 = file_1['data']['__schema']['types']"
   ]
  },
  {
   "cell_type": "code",
   "execution_count": 20,
   "metadata": {},
   "outputs": [],
   "source": [
    "# create output directory\n",
    "try:\n",
    "    os.mkdir('output')\n",
    "except FileExistsError:\n",
    "    print('Directory already exists')"
   ]
  },
  {
   "cell_type": "code",
   "execution_count": 21,
   "metadata": {},
   "outputs": [
    {
     "name": "stderr",
     "output_type": "stream",
     "text": [
      "100%|███████████████████████████████████████████████████████████████████████████████| 138/138 [00:00<00:00, 346.72it/s]\n"
     ]
    }
   ],
   "source": [
    "for f in tqdm(file_1):\n",
    "    if f['kind']=='OBJECT' or f['kind']=='INTERFACE': # as they have the 'field' properties\n",
    "        \n",
    "        prop_list = list() # init a list to store all 'field' properties\n",
    "        for i in list(f['fields']):\n",
    "            new_dict = {} # init a dict for each fields property\n",
    "            new_dict['name'] = i['name'] # get the fields 'name'\n",
    "            # iterate through the fields 'type'\n",
    "            for j in i['type'].keys(): \n",
    "                # open the schema type for eac fields 'type'\n",
    "                new_dict['type_'+j] = i['type'][j] \n",
    "            prop_list.append(new_dict)\n",
    "        \n",
    "        # save them as csvs\n",
    "        pd.DataFrame(prop_list).to_csv('output/'+f['name']+'_fields_table_schema.csv', index=False)"
   ]
  },
  {
   "cell_type": "code",
   "execution_count": 25,
   "metadata": {
    "scrolled": false
   },
   "outputs": [],
   "source": [
    "# saving master file\n",
    "pd.DataFrame(file_1).drop('fields', axis=1).to_csv('output/'+'MASTER_table_schema_MASTER.csv', index=False)"
   ]
  },
  {
   "cell_type": "code",
   "execution_count": null,
   "metadata": {},
   "outputs": [],
   "source": []
  }
 ],
 "metadata": {
  "kernelspec": {
   "display_name": "Python 3",
   "language": "python",
   "name": "python3"
  },
  "language_info": {
   "codemirror_mode": {
    "name": "ipython",
    "version": 3
   },
   "file_extension": ".py",
   "mimetype": "text/x-python",
   "name": "python",
   "nbconvert_exporter": "python",
   "pygments_lexer": "ipython3",
   "version": "3.6.7"
  }
 },
 "nbformat": 4,
 "nbformat_minor": 2
}
