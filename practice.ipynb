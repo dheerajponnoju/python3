{
 "cells": [
  {
   "cell_type": "markdown",
   "metadata": {},
   "source": [
    "<h1 style = \"font-size:45px;text-align:center;\">Fundamentals of Python Programming!</h1>"
   ]
  },
  {
   "cell_type": "code",
   "execution_count": 6,
   "metadata": {},
   "outputs": [
    {
     "data": {
      "text/html": [
       "<iframe src=\"//www.bloomberg.com/api/embed/iframe?id=3f8fe2ec-f8a1-4468-9670-f87781d34c86\" allowscriptaccess=\"always\" frameborder=\"0\" width=800 height=500></iframe>\n"
      ],
      "text/plain": [
       "<IPython.core.display.HTML object>"
      ]
     },
     "metadata": {},
     "output_type": "display_data"
    }
   ],
   "source": [
    "%%HTML\n",
    "<iframe src=\"//www.bloomberg.com/api/embed/iframe?id=3f8fe2ec-f8a1-4468-9670-f87781d34c86\" allowscriptaccess=\"always\" frameborder=\"0\" width=800 height=500></iframe>"
   ]
  },
  {
   "cell_type": "markdown",
   "metadata": {},
   "source": [
    "## Generations of Programming Languages\n",
    "\n",
    "### 1GL :\n",
    "Ex. Machine-Level Programming Languages\n",
    "\n",
    "### 2GL:\n",
    "Ex. Assembly Languages\n",
    "\n",
    "### 3GL :\n",
    "Ex. C, C++, Java, C#, etc.\n",
    "\n",
    "### 4GL :\n",
    "Ex. SQL, Bash, Perl, Python, Ruby, PHP, etc.\n",
    "\n",
    "### 5GL :\n",
    "OPS5, Mercury, Gen(Julia), etc.\n",
    "\n",
    "Reference : https://en.wikipedia.org/wiki/Programming_language_generations"
   ]
  },
  {
   "cell_type": "markdown",
   "metadata": {},
   "source": [
    "### What is Python & Why Python?\n",
    "\n",
    "* General Purpose programming language.\n",
    "* It is developed by Guido Van Rossum. -- Monty Python's Flying Circus (BBC's TV Show)\n",
    "* In 2018, Python was the third most popular language on GitHub, a social coding website, behind JavaScript and Java.\n",
    "* Python has been among the 10 most popular programming languages every year since 2004 according to the TIOBE Programming Community Index.\n",
    "* It is the fastest growing programming languages followed by JavaScript, Swift, C# etc\n",
    "\n",
    "Goals for designing Python in Rossum's words submitted by him to DARPA in 1999 :\n",
    "* An easy and intuitive language just as powerful as major competitors\n",
    "* Open source, so anyone can contribute to its development\n",
    "* Code that is as understandable as plain English\n",
    "* Suitability for everyday tasks, allowing for short development times\n",
    "\n",
    "Types of Apps that can be built using python :\n",
    "* Blockchain Applications\n",
    "* Command-Line Application\n",
    "* Audio/Video Applications\n",
    "* Game Development\n",
    "* System Administration Applications\n",
    "* Machine Learning Applications\n",
    "* Business Applications\n",
    "\n",
    "Popular Applications built using Python :\n",
    "* Instagram\n",
    "* Pinterest\n",
    "* Spotify\n",
    "* Dropbox\n",
    "* Uber\n",
    "* Reddit\n",
    "* Youtube, etc.\n",
    "\n",
    "History : https://www.geeksforgeeks.org/history-of-python/#:~:text=The%20inspiration%20for%20the%20name%20came%20from%20BBC%E2%80%99s,his%20invention%20and%20hence%20he%20named%20it%20Python!\n",
    "\n",
    "References : https://en.wikipedia.org/wiki/Guido_van_Rossum <br>\n",
    "https://appinventiv.com/blog/types-of-apps-developed-using-python/#:~:text=Applications%20like%20Instagram%20and,Dropbox%20are%20built%20using%20Python."
   ]
  },
  {
   "cell_type": "code",
   "execution_count": null,
   "metadata": {},
   "outputs": [],
   "source": []
  }
 ],
 "metadata": {
  "kernelspec": {
   "display_name": "Python 3",
   "language": "python",
   "name": "python3"
  },
  "language_info": {
   "codemirror_mode": {
    "name": "ipython",
    "version": 3
   },
   "file_extension": ".py",
   "mimetype": "text/x-python",
   "name": "python",
   "nbconvert_exporter": "python",
   "pygments_lexer": "ipython3",
   "version": "3.7.8"
  }
 },
 "nbformat": 4,
 "nbformat_minor": 4
}
