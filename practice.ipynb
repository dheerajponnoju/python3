{
 "cells": [
  {
   "cell_type": "markdown",
   "metadata": {},
   "source": [
    "<h1 style = \"font-size:45px;text-align:center;\">Fundamentals of Python Programming!</h1>"
   ]
  },
  {
   "cell_type": "code",
   "execution_count": 1,
   "metadata": {},
   "outputs": [
    {
     "data": {
      "text/html": [
       "<iframe src=\"//www.bloomberg.com/api/embed/iframe?id=3f8fe2ec-f8a1-4468-9670-f87781d34c86\" allowscriptaccess=\"always\" frameborder=\"0\" width=800 height=500></iframe>\n"
      ],
      "text/plain": [
       "<IPython.core.display.HTML object>"
      ]
     },
     "metadata": {},
     "output_type": "display_data"
    }
   ],
   "source": [
    "%%HTML\n",
    "<iframe src=\"//www.bloomberg.com/api/embed/iframe?id=3f8fe2ec-f8a1-4468-9670-f87781d34c86\" allowscriptaccess=\"always\" frameborder=\"0\" width=800 height=500></iframe>"
   ]
  },
  {
   "cell_type": "markdown",
   "metadata": {},
   "source": [
    "## Generations of Programming Languages\n",
    "\n",
    "### 1GL :\n",
    "Ex. Machine-Level Programming Languages\n",
    "\n",
    "### 2GL:\n",
    "Ex. Assembly Languages\n",
    "\n",
    "### 3GL :\n",
    "Ex. C, C++, Java, C#, etc.\n",
    "\n",
    "### 4GL :\n",
    "Ex. SQL, Bash, Perl, Python, Ruby, PHP, etc.\n",
    "\n",
    "### 5GL :\n",
    "OPS5, Mercury, Gen(Julia), etc.\n",
    "\n",
    "Reference : https://en.wikipedia.org/wiki/Programming_language_generations"
   ]
  },
  {
   "cell_type": "markdown",
   "metadata": {},
   "source": [
    "### What is Python & Why Python?\n",
    "\n",
    "* General Purpose programming language.\n",
    "* It is developed by Guido Van Rossum. -- Monty <span style=\"color:red;background-color:yellow\">Python</span>'s Flying Circus (BBC's TV Show). He is big fan of this show, and he wanted to name this programming language with an unexpected naming approach and that's where this programming language <b>Python</b> get its name from.\n",
    "* In 2018, Python was the third most popular language on GitHub, a social coding website, behind JavaScript and Java.\n",
    "* Python has been among the 10 most popular programming languages every year since 2004 according to the TIOBE Programming Community Index.\n",
    "* It is the fastest growing programming languages followed by JavaScript, Swift, C# etc\n",
    "\n",
    "Goals for designing Python in Rossum's words submitted by him to DARPA in 1999 :\n",
    "* An easy and intuitive language just as powerful as major competitors\n",
    "* Open source, so anyone can contribute to its development\n",
    "* Code that is as understandable as plain English\n",
    "* Suitability for everyday tasks, allowing for short development times\n",
    "\n",
    "Types of Apps that can be built using python :\n",
    "* Blockchain Applications\n",
    "* Command-Line Application\n",
    "* Audio/Video Applications\n",
    "* Game Development\n",
    "* System Administration Applications\n",
    "* Machine Learning Applications\n",
    "* Business Applications\n",
    "\n",
    "Popular Applications built using Python :\n",
    "* Instagram\n",
    "* Pinterest\n",
    "* Spotify\n",
    "* Dropbox\n",
    "* Uber\n",
    "* Reddit\n",
    "* Youtube, etc.\n",
    "\n",
    "History : https://www.geeksforgeeks.org/history-of-python/#:~:text=The%20inspiration%20for%20the%20name%20came%20from%20BBC%E2%80%99s,his%20invention%20and%20hence%20he%20named%20it%20Python!\n",
    "\n",
    "References : https://en.wikipedia.org/wiki/Guido_van_Rossum <br>\n",
    "https://appinventiv.com/blog/types-of-apps-developed-using-python/#:~:text=Applications%20like%20Instagram%20and,Dropbox%20are%20built%20using%20Python."
   ]
  },
  {
   "cell_type": "code",
   "execution_count": 1,
   "metadata": {},
   "outputs": [
    {
     "name": "stdout",
     "output_type": "stream",
     "text": [
      "Hello, World!\n"
     ]
    }
   ],
   "source": [
    "print(\"Hello, World!\")"
   ]
  },
  {
   "cell_type": "markdown",
   "metadata": {},
   "source": [
    "REPL - Read, Evaluate, Print, Loop"
   ]
  },
  {
   "cell_type": "markdown",
   "metadata": {},
   "source": [
    "Java - JSHELL(Java 9), Python(python), Scala(scala), Ruby(irb)"
   ]
  },
  {
   "cell_type": "code",
   "execution_count": 4,
   "metadata": {},
   "outputs": [
    {
     "name": "stdout",
     "output_type": "stream",
     "text": [
      "Hello\"s\n",
      "Hello's\n"
     ]
    }
   ],
   "source": [
    "c = 'Hello\"s'\n",
    "print(c)\n",
    "d = \"Hello's\"\n",
    "print(d)"
   ]
  },
  {
   "cell_type": "code",
   "execution_count": 5,
   "metadata": {},
   "outputs": [
    {
     "name": "stdout",
     "output_type": "stream",
     "text": [
      "<class 'int'>\n",
      "<class 'float'>\n",
      "<class 'bool'>\n"
     ]
    }
   ],
   "source": [
    "d = 1\n",
    "print(type(d))\n",
    "e = 1.57\n",
    "print(type(e))\n",
    "f = True\n",
    "print(type(f))"
   ]
  },
  {
   "cell_type": "markdown",
   "metadata": {},
   "source": [
    "### Arithmetic Operations"
   ]
  },
  {
   "cell_type": "code",
   "execution_count": 12,
   "metadata": {},
   "outputs": [
    {
     "name": "stdout",
     "output_type": "stream",
     "text": [
      "4\n",
      "4.5\n",
      "-3\n",
      "0.8\n",
      "2\n",
      "2.3333333333333335\n",
      "36\n",
      "1024\n"
     ]
    }
   ],
   "source": [
    "print(1+3)\n",
    "print(1+3.5)\n",
    "print(4-7)\n",
    "print(4/5)\n",
    "print(7//3)\n",
    "print(7/3)\n",
    "print(4*9)\n",
    "print(2**10)"
   ]
  },
  {
   "cell_type": "code",
   "execution_count": 13,
   "metadata": {},
   "outputs": [
    {
     "name": "stdout",
     "output_type": "stream",
     "text": [
      "81\n"
     ]
    }
   ],
   "source": [
    "a = 3\n",
    "b = 4\n",
    "print(a**b)"
   ]
  },
  {
   "cell_type": "markdown",
   "metadata": {},
   "source": [
    "### Logical Operations"
   ]
  },
  {
   "cell_type": "code",
   "execution_count": 24,
   "metadata": {},
   "outputs": [
    {
     "name": "stdout",
     "output_type": "stream",
     "text": [
      "in the else section\n",
      "Oh!\n"
     ]
    }
   ],
   "source": [
    "if 8<2:\n",
    "    print(\"8 is greater than 2\")\n",
    "else:\n",
    "    print(\"in the else section\")\n",
    "    if 3<2:\n",
    "        print(1+1)\n",
    "    else:\n",
    "        print(\"Oh!\")"
   ]
  },
  {
   "cell_type": "code",
   "execution_count": 30,
   "metadata": {},
   "outputs": [
    {
     "name": "stdout",
     "output_type": "stream",
     "text": [
      "not between 34 and 72\n"
     ]
    }
   ],
   "source": [
    "a = 34\n",
    "b = 56\n",
    "c = 52\n",
    "if b>a and b<c:\n",
    "    print(\"Hurray!\")\n",
    "else:\n",
    "    print(\"not between 34 and 72\")"
   ]
  },
  {
   "cell_type": "code",
   "execution_count": null,
   "metadata": {},
   "outputs": [],
   "source": []
  }
 ],
 "metadata": {
  "kernelspec": {
   "display_name": "Python 3",
   "language": "python",
   "name": "python3"
  },
  "language_info": {
   "codemirror_mode": {
    "name": "ipython",
    "version": 3
   },
   "file_extension": ".py",
   "mimetype": "text/x-python",
   "name": "python",
   "nbconvert_exporter": "python",
   "pygments_lexer": "ipython3",
   "version": "3.7.10"
  }
 },
 "nbformat": 4,
 "nbformat_minor": 4
}
