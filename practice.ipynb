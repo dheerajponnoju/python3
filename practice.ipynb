{
 "cells": [
  {
   "cell_type": "code",
   "execution_count": 1,
   "metadata": {},
   "outputs": [],
   "source": [
    "!gcc sample.c -o sample"
   ]
  },
  {
   "cell_type": "code",
   "execution_count": 2,
   "metadata": {},
   "outputs": [
    {
     "name": "stdout",
     "output_type": "stream",
     "text": [
      "Hello, World!"
     ]
    }
   ],
   "source": [
    "!./sample"
   ]
  },
  {
   "cell_type": "code",
   "execution_count": 7,
   "metadata": {},
   "outputs": [
    {
     "name": "stdout",
     "output_type": "stream",
     "text": [
      "Python 3.7.8\r\n"
     ]
    }
   ],
   "source": [
    "!python3 --version"
   ]
  },
  {
   "cell_type": "code",
   "execution_count": 1,
   "metadata": {},
   "outputs": [
    {
     "name": "stdout",
     "output_type": "stream",
     "text": [
      "practice.ipynb\tpractice.py  sample  sample.c\r\n"
     ]
    }
   ],
   "source": [
    "!ls"
   ]
  },
  {
   "cell_type": "code",
   "execution_count": 2,
   "metadata": {},
   "outputs": [
    {
     "name": "stdout",
     "output_type": "stream",
     "text": [
      "Reinitialized existing Git repository in /home/jovyan/.git/\r\n"
     ]
    }
   ],
   "source": [
    "!git init"
   ]
  },
  {
   "cell_type": "code",
   "execution_count": 3,
   "metadata": {},
   "outputs": [
    {
     "name": "stdout",
     "output_type": "stream",
     "text": [
      "fatal: remote origin already exists.\r\n"
     ]
    }
   ],
   "source": [
    "!git remote add origin https://github.com/dheerajponnoju/python3"
   ]
  },
  {
   "cell_type": "code",
   "execution_count": 7,
   "metadata": {},
   "outputs": [],
   "source": [
    "!git add ."
   ]
  },
  {
   "cell_type": "code",
   "execution_count": 11,
   "metadata": {},
   "outputs": [
    {
     "name": "stdout",
     "output_type": "stream",
     "text": [
      "[main 2e93632] changes update\n",
      " 22 files changed, 390 insertions(+), 1 deletion(-)\n",
      " create mode 100644 .bash_logout\n",
      " create mode 100644 .bashrc\n",
      " create mode 100644 .cache/jedi/CPython-37-33/593d51111df2a7984c5d14ec09b1fb4e1c5fa86889ca077d5efe8caf989e2ebc-8f10d5b5db374252c3ff316a81c5d3c565dfab5ba938ea42be9db353d20da8a6.pkl\n",
      " create mode 100644 .cache/jedi/PARSO-CACHE-LOCK\n",
      " create mode 100644 .config/configstore/update-notifier-npm.json\n",
      " create mode 100644 .ipynb_checkpoints/practice-checkpoint.ipynb\n",
      " create mode 100644 .ipython/profile_default/history.sqlite\n",
      " create mode 100644 .ipython/profile_default/startup/README\n",
      " create mode 100644 .jupyter-server-log.txt\n",
      " create mode 100644 .jupyter/nbconfig/edit.json\n",
      " create mode 100644 .local/share/Trash/files/sample.java\n",
      " create mode 100644 .local/share/Trash/info/sample.java.trashinfo\n",
      " create mode 100644 .local/share/jupyter/nbsignatures.db\n",
      " create mode 100644 .local/share/jupyter/notebook_secret\n",
      " create mode 100644 .local/share/jupyter/runtime/kernel-9af823b8-8776-456d-ac98-a278fe049d84.json\n",
      " create mode 100644 .local/share/jupyter/runtime/nbserver-1-open.html\n",
      " create mode 100644 .local/share/jupyter/runtime/nbserver-1.json\n",
      " create mode 100644 .local/share/jupyter/runtime/notebook_cookie_secret\n",
      " create mode 100644 .profile\n",
      " create mode 100755 sample\n"
     ]
    }
   ],
   "source": [
    "!git commit -m \"changes update\""
   ]
  },
  {
   "cell_type": "code",
   "execution_count": 9,
   "metadata": {},
   "outputs": [],
   "source": [
    "!git config --global user.email \"dheerajponnoju@gmail.com\""
   ]
  },
  {
   "cell_type": "code",
   "execution_count": 10,
   "metadata": {},
   "outputs": [],
   "source": [
    "!git config --global user.name \"Dheeraj Ponnoju\""
   ]
  },
  {
   "cell_type": "code",
   "execution_count": 5,
   "metadata": {},
   "outputs": [
    {
     "name": "stdout",
     "output_type": "stream",
     "text": [
      "Username for 'https://github.com': ^C\n"
     ]
    }
   ],
   "source": [
    "!git push -u \"https://github.com/dheerajponnoju/python3.git\" --all"
   ]
  },
  {
   "cell_type": "code",
   "execution_count": null,
   "metadata": {},
   "outputs": [],
   "source": []
  }
 ],
 "metadata": {
  "kernelspec": {
   "display_name": "Python 3",
   "language": "python",
   "name": "python3"
  },
  "language_info": {
   "codemirror_mode": {
    "name": "ipython",
    "version": 3
   },
   "file_extension": ".py",
   "mimetype": "text/x-python",
   "name": "python",
   "nbconvert_exporter": "python",
   "pygments_lexer": "ipython3",
   "version": "3.7.8"
  }
 },
 "nbformat": 4,
 "nbformat_minor": 4
}
