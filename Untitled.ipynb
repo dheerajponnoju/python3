{
 "cells": [
  {
   "cell_type": "code",
   "execution_count": 2,
   "id": "effective-reaction",
   "metadata": {},
   "outputs": [],
   "source": [
    "import pandas as pd\n",
    "import numpy as np\n",
    "import langdetect as ld\n",
    "import google_trans_new as gtn"
   ]
  },
  {
   "cell_type": "code",
   "execution_count": 3,
   "id": "liquid-delta",
   "metadata": {},
   "outputs": [],
   "source": [
    "ts = gtn.google_translator()"
   ]
  },
  {
   "cell_type": "code",
   "execution_count": 4,
   "id": "favorite-smith",
   "metadata": {},
   "outputs": [],
   "source": [
    "df = pd.read_excel(\"HSEQ POC Translation.xlsx\",\"Cases\")"
   ]
  },
  {
   "cell_type": "code",
   "execution_count": 5,
   "id": "traditional-design",
   "metadata": {},
   "outputs": [],
   "source": [
    "df[\"Case Description\"].replace(np.nan,\"NULL\",inplace=True)"
   ]
  },
  {
   "cell_type": "code",
   "execution_count": 6,
   "id": "forbidden-spotlight",
   "metadata": {},
   "outputs": [],
   "source": [
    "trcd = []"
   ]
  },
  {
   "cell_type": "code",
   "execution_count": 11,
   "id": "enclosed-reaction",
   "metadata": {},
   "outputs": [],
   "source": [
    "for i in df[\"Case Description\"].tail(20):\n",
    "    trcd.append(ts.translate(i))"
   ]
  },
  {
   "cell_type": "code",
   "execution_count": 14,
   "id": "emerging-directive",
   "metadata": {},
   "outputs": [
    {
     "data": {
      "text/plain": [
       "['At the barrel filling station TEXAPON NSO has expired on the floor. Slipping! ',\n",
       " 'When mounting a flange connection on E.Kreuz Roeb 7, a wrong seal was spotted. Apparently, it was precisely checked before installation again and then found that she does not fit exactly ',\n",
       " 'The panic lock in the door to the PSA camp was installed upside down. This could happen that you lock yourself in the camp. ',\n",
       " 'Passengers to Gjøa do not comply with infection control rules Heliport Florø before departure. See attached deviation from Bristow and Securitas ',\n",
       " 'The access of the SC oz1 is heavily covered with foliage. Extreme slip of slip. ',\n",
       " 'Kirchheilingen NW - Block Ball Camp on Locking Leit Storage Water Containers Strong-binding ',\n",
       " 'The TKW drivers complain about gas odor during the loading._x000d_  The smell obviously comes out of the field of torch MTA6. ',\n",
       " 'Fa. Ray uses Kantine Steinitz for job interviews - without prior notice / coordination and despite coronary closure of the canteen for non-resident / guests ',\n",
       " 'Windsack heavily worn weather due to weather, resulting in poor or inaccurate display of the wind direction. IMPORTANT IN HAVARIEFALS IMPORTANT FOR IMMEDIATELY MOTION. ',\n",
       " 'Exhaust hose of the hazardous substance workstation (ASECOS) is porous / leaking. And thus no complete exhaust delivery into the atmosphere possible, but exhaust air remains partly in the room. ',\n",
       " 'Pug on the operating park in the entry area (front) - stumbling and falling danger ',\n",
       " 'Goggles of the ma in poor condition (scratched, ..) - all ma equipped with new goggles - model behavior ',\n",
       " 'Tree is located on the driveway to the probe MH 11 - accessible, no festivals possible ',\n",
       " 'Access to the probes FH 8 / FH 11 / FH 13 not possible by reduced trees - no evidence possible ',\n",
       " 'The support of the gas line to the torch is filtered off in the moor area. Through strong tensile forces on the flange connection it could lead to leaks. Brand and explosion hazard! ',\n",
       " 'Barrier chain on the extinguishing area Kirchheilings by UV radiation and weather conditions Pöros and brittle ',\n",
       " 'Broken hand shut-off valves on the GSP Henningen, strangely or only with auxiliary ',\n",
       " 'Overview with HSE contact person for the operation of the district not up-to-date ',\n",
       " 'Outdoor light No. 17 Operating Platz Kietz defective ',\n",
       " 'Loose door pawl at the entrance gate KISE 3 ']"
      ]
     },
     "execution_count": 14,
     "metadata": {},
     "output_type": "execute_result"
    }
   ],
   "source": [
    "trcd[::-1][:20]"
   ]
  },
  {
   "cell_type": "code",
   "execution_count": 10,
   "id": "grateful-criticism",
   "metadata": {},
   "outputs": [
    {
     "data": {
      "text/plain": [
       "2832                 Lose Türklinke am Eingangstor KiSe 3\n",
       "2833       Außenleuchte Nr. 17 Betriebsplatz Kietz defekt\n",
       "2834    Übersicht mit HSE-Ansprechpartner für die Betr...\n",
       "2835    Defekte Handabsperrarmaturen auf dem GSP Henni...\n",
       "2836    Absperrkette am Löschteich Kirchheilingen durc...\n",
       "2837    Die Abstützung der Gasleitung zur Fackel ist i...\n",
       "2838    Zufahrt zu den Sonden FH 8/ FH 11/ FH 13 durch...\n",
       "2839    Baum liegt auf der Zufahrt zur Sonde Mh 11 - Z...\n",
       "2840    Schutzbrillen der MA in schlechtem Zustand (ze...\n",
       "2841    Schlagloch auf dem Betriebsparkplatz im Einfah...\n",
       "2842    Abluftschlauch des Gefahrstoffarbeitsplatzes (...\n",
       "2843    Windsack witterungsbedingt stark verschlissen,...\n",
       "2844    Fa. Ray nutzt Kantine Steinitz für Vorstellung...\n",
       "2845    Die TKW Fahrer beschweren sich über Gasgeruch ...\n",
       "2846    Kirchheilingen NW - Blockkugelhahn an Ausschle...\n",
       "2847    Die Zufahrt der SC- OZ1 ist stark mit Laub bed...\n",
       "2848    Passasjerer til Gjøa overholder ikke smittever...\n",
       "2849    Das Panikschloss im der Tür zum PSA-Lager war ...\n",
       "2850    bei der Montage einer Flanschverbindung am E.K...\n",
       "2851    An der Fassabfüllstation ist Texapon NSO auf d...\n",
       "Name: Case Description, dtype: object"
      ]
     },
     "execution_count": 10,
     "metadata": {},
     "output_type": "execute_result"
    }
   ],
   "source": [
    "df[\"Case Description\"].tail(20)"
   ]
  },
  {
   "cell_type": "code",
   "execution_count": null,
   "id": "normal-control",
   "metadata": {},
   "outputs": [],
   "source": []
  }
 ],
 "metadata": {
  "kernelspec": {
   "display_name": "Python 3",
   "language": "python",
   "name": "python3"
  },
  "language_info": {
   "codemirror_mode": {
    "name": "ipython",
    "version": 3
   },
   "file_extension": ".py",
   "mimetype": "text/x-python",
   "name": "python",
   "nbconvert_exporter": "python",
   "pygments_lexer": "ipython3",
   "version": "3.7.10"
  }
 },
 "nbformat": 4,
 "nbformat_minor": 5
}
